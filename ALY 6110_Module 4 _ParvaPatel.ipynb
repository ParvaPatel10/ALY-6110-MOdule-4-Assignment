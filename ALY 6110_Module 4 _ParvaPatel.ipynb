{
  "nbformat": 4,
  "nbformat_minor": 0,
  "metadata": {
    "colab": {
      "provenance": []
    },
    "kernelspec": {
      "name": "python3",
      "display_name": "Python 3"
    },
    "language_info": {
      "name": "python"
    }
  },
  "cells": [
    {
      "cell_type": "code",
      "execution_count": 1,
      "metadata": {
        "id": "YC89eS2TbDln"
      },
      "outputs": [],
      "source": [
        "# innstall java\n",
        "!apt-get install openjdk-8-jdk-headless -qq > /dev/null\n",
        "\n",
        "# install spark (change the version number if needed)\n",
        "!wget -q https://archive.apache.org/dist/spark/spark-3.0.0/spark-3.0.0-bin-hadoop3.2.tgz\n",
        "\n",
        "# unzip the spark file to the current folder\n",
        "!tar xf spark-3.0.0-bin-hadoop3.2.tgz\n",
        "\n",
        "# set your spark folder to your system path environment. \n",
        "import os\n",
        "os.environ[\"JAVA_HOME\"] = \"/usr/lib/jvm/java-8-openjdk-amd64\"\n",
        "os.environ[\"SPARK_HOME\"] = \"/content/spark-3.0.0-bin-hadoop3.2\"\n",
        "\n",
        "# install findspark using pip\n",
        "!pip install -q findspark"
      ]
    },
    {
      "cell_type": "code",
      "source": [
        "import pandas as pd\n",
        "import findspark\n",
        "findspark.init()\n",
        "from pyspark.sql import SparkSession\n",
        "spark = SparkSession.builder.master(\"local[*]\").getOrCreate()"
      ],
      "metadata": {
        "id": "s0K4mJkKbK2Z"
      },
      "execution_count": 3,
      "outputs": []
    },
    {
      "cell_type": "code",
      "source": [
        "from google.colab import files\n",
        "files.upload()"
      ],
      "metadata": {
        "colab": {
          "base_uri": "https://localhost:8080/",
          "height": 1000
        },
        "id": "4MP2cNamcROi",
        "outputId": "865fc142-182e-450b-fe3a-011df2e73302"
      },
      "execution_count": 19,
      "outputs": [
        {
          "output_type": "display_data",
          "data": {
            "text/plain": [
              "<IPython.core.display.HTML object>"
            ],
            "text/html": [
              "\n",
              "     <input type=\"file\" id=\"files-9535aca4-5bfa-4d3b-951d-12f7ad719152\" name=\"files[]\" multiple disabled\n",
              "        style=\"border:none\" />\n",
              "     <output id=\"result-9535aca4-5bfa-4d3b-951d-12f7ad719152\">\n",
              "      Upload widget is only available when the cell has been executed in the\n",
              "      current browser session. Please rerun this cell to enable.\n",
              "      </output>\n",
              "      <script>// Copyright 2017 Google LLC\n",
              "//\n",
              "// Licensed under the Apache License, Version 2.0 (the \"License\");\n",
              "// you may not use this file except in compliance with the License.\n",
              "// You may obtain a copy of the License at\n",
              "//\n",
              "//      http://www.apache.org/licenses/LICENSE-2.0\n",
              "//\n",
              "// Unless required by applicable law or agreed to in writing, software\n",
              "// distributed under the License is distributed on an \"AS IS\" BASIS,\n",
              "// WITHOUT WARRANTIES OR CONDITIONS OF ANY KIND, either express or implied.\n",
              "// See the License for the specific language governing permissions and\n",
              "// limitations under the License.\n",
              "\n",
              "/**\n",
              " * @fileoverview Helpers for google.colab Python module.\n",
              " */\n",
              "(function(scope) {\n",
              "function span(text, styleAttributes = {}) {\n",
              "  const element = document.createElement('span');\n",
              "  element.textContent = text;\n",
              "  for (const key of Object.keys(styleAttributes)) {\n",
              "    element.style[key] = styleAttributes[key];\n",
              "  }\n",
              "  return element;\n",
              "}\n",
              "\n",
              "// Max number of bytes which will be uploaded at a time.\n",
              "const MAX_PAYLOAD_SIZE = 100 * 1024;\n",
              "\n",
              "function _uploadFiles(inputId, outputId) {\n",
              "  const steps = uploadFilesStep(inputId, outputId);\n",
              "  const outputElement = document.getElementById(outputId);\n",
              "  // Cache steps on the outputElement to make it available for the next call\n",
              "  // to uploadFilesContinue from Python.\n",
              "  outputElement.steps = steps;\n",
              "\n",
              "  return _uploadFilesContinue(outputId);\n",
              "}\n",
              "\n",
              "// This is roughly an async generator (not supported in the browser yet),\n",
              "// where there are multiple asynchronous steps and the Python side is going\n",
              "// to poll for completion of each step.\n",
              "// This uses a Promise to block the python side on completion of each step,\n",
              "// then passes the result of the previous step as the input to the next step.\n",
              "function _uploadFilesContinue(outputId) {\n",
              "  const outputElement = document.getElementById(outputId);\n",
              "  const steps = outputElement.steps;\n",
              "\n",
              "  const next = steps.next(outputElement.lastPromiseValue);\n",
              "  return Promise.resolve(next.value.promise).then((value) => {\n",
              "    // Cache the last promise value to make it available to the next\n",
              "    // step of the generator.\n",
              "    outputElement.lastPromiseValue = value;\n",
              "    return next.value.response;\n",
              "  });\n",
              "}\n",
              "\n",
              "/**\n",
              " * Generator function which is called between each async step of the upload\n",
              " * process.\n",
              " * @param {string} inputId Element ID of the input file picker element.\n",
              " * @param {string} outputId Element ID of the output display.\n",
              " * @return {!Iterable<!Object>} Iterable of next steps.\n",
              " */\n",
              "function* uploadFilesStep(inputId, outputId) {\n",
              "  const inputElement = document.getElementById(inputId);\n",
              "  inputElement.disabled = false;\n",
              "\n",
              "  const outputElement = document.getElementById(outputId);\n",
              "  outputElement.innerHTML = '';\n",
              "\n",
              "  const pickedPromise = new Promise((resolve) => {\n",
              "    inputElement.addEventListener('change', (e) => {\n",
              "      resolve(e.target.files);\n",
              "    });\n",
              "  });\n",
              "\n",
              "  const cancel = document.createElement('button');\n",
              "  inputElement.parentElement.appendChild(cancel);\n",
              "  cancel.textContent = 'Cancel upload';\n",
              "  const cancelPromise = new Promise((resolve) => {\n",
              "    cancel.onclick = () => {\n",
              "      resolve(null);\n",
              "    };\n",
              "  });\n",
              "\n",
              "  // Wait for the user to pick the files.\n",
              "  const files = yield {\n",
              "    promise: Promise.race([pickedPromise, cancelPromise]),\n",
              "    response: {\n",
              "      action: 'starting',\n",
              "    }\n",
              "  };\n",
              "\n",
              "  cancel.remove();\n",
              "\n",
              "  // Disable the input element since further picks are not allowed.\n",
              "  inputElement.disabled = true;\n",
              "\n",
              "  if (!files) {\n",
              "    return {\n",
              "      response: {\n",
              "        action: 'complete',\n",
              "      }\n",
              "    };\n",
              "  }\n",
              "\n",
              "  for (const file of files) {\n",
              "    const li = document.createElement('li');\n",
              "    li.append(span(file.name, {fontWeight: 'bold'}));\n",
              "    li.append(span(\n",
              "        `(${file.type || 'n/a'}) - ${file.size} bytes, ` +\n",
              "        `last modified: ${\n",
              "            file.lastModifiedDate ? file.lastModifiedDate.toLocaleDateString() :\n",
              "                                    'n/a'} - `));\n",
              "    const percent = span('0% done');\n",
              "    li.appendChild(percent);\n",
              "\n",
              "    outputElement.appendChild(li);\n",
              "\n",
              "    const fileDataPromise = new Promise((resolve) => {\n",
              "      const reader = new FileReader();\n",
              "      reader.onload = (e) => {\n",
              "        resolve(e.target.result);\n",
              "      };\n",
              "      reader.readAsArrayBuffer(file);\n",
              "    });\n",
              "    // Wait for the data to be ready.\n",
              "    let fileData = yield {\n",
              "      promise: fileDataPromise,\n",
              "      response: {\n",
              "        action: 'continue',\n",
              "      }\n",
              "    };\n",
              "\n",
              "    // Use a chunked sending to avoid message size limits. See b/62115660.\n",
              "    let position = 0;\n",
              "    do {\n",
              "      const length = Math.min(fileData.byteLength - position, MAX_PAYLOAD_SIZE);\n",
              "      const chunk = new Uint8Array(fileData, position, length);\n",
              "      position += length;\n",
              "\n",
              "      const base64 = btoa(String.fromCharCode.apply(null, chunk));\n",
              "      yield {\n",
              "        response: {\n",
              "          action: 'append',\n",
              "          file: file.name,\n",
              "          data: base64,\n",
              "        },\n",
              "      };\n",
              "\n",
              "      let percentDone = fileData.byteLength === 0 ?\n",
              "          100 :\n",
              "          Math.round((position / fileData.byteLength) * 100);\n",
              "      percent.textContent = `${percentDone}% done`;\n",
              "\n",
              "    } while (position < fileData.byteLength);\n",
              "  }\n",
              "\n",
              "  // All done.\n",
              "  yield {\n",
              "    response: {\n",
              "      action: 'complete',\n",
              "    }\n",
              "  };\n",
              "}\n",
              "\n",
              "scope.google = scope.google || {};\n",
              "scope.google.colab = scope.google.colab || {};\n",
              "scope.google.colab._files = {\n",
              "  _uploadFiles,\n",
              "  _uploadFilesContinue,\n",
              "};\n",
              "})(self);\n",
              "</script> "
            ]
          },
          "metadata": {}
        },
        {
          "output_type": "stream",
          "name": "stdout",
          "text": [
            "Saving Ecom.csv to Ecom (1).csv\n"
          ]
        },
        {
          "output_type": "execute_result",
          "data": {
            "text/plain": [
              "{'Ecom.csv': b'\\xef\\xbb\\xbfEmail,Avatar,AvgSessionLength,Time on App,Time on Website,Length of Membership,Yearly Amount Spent\\r\\nmstephenson@fernandez.com,Violet,34.49726773,12.65565115,39.57766802,4.082620633,587.951054\\r\\nhduke@hotmail.com,DarkGreen,31.92627203,11.10946073,37.26895887,2.664034182,392.2049334\\r\\npallen@yahoo.com,Bisque,33.00091476,11.33027806,37.11059744,4.104543202,487.5475049\\r\\nriverarebecca@gmail.com,SaddleBrown,34.30555663,13.71751367,36.72128268,3.120178783,581.852344\\r\\nmstephens@davidson-herman.com,MediumAquaMarine,33.33067252,12.79518855,37.5366533,4.446308318,599.406092\\r\\nalvareznancy@lucas.biz,FloralWhite,33.87103788,12.02692534,34.47687763,5.493507201,637.1024479\\r\\nkatherine20@yahoo.com,DarkSlateBlue,32.0215955,11.36634831,36.68377615,4.685017247,521.5721748\\r\\nawatkins@yahoo.com,Aqua,32.73914294,12.35195897,37.37335886,4.434273435,549.9041461\\r\\nvchurch@walter-martinez.com,Salmon,33.9877729,13.38623528,37.53449734,3.273433578,570.200409\\r\\nbonnie69@lin.biz,Brown,31.93654862,11.81412829,37.14516822,3.202806072,427.1993849\\r\\nandrew06@peterson.com,Tomato,33.99257277,13.33897545,37.22580613,2.482607771,492.6060127\\r\\nryanwerner@freeman.biz,Tomato,33.87936082,11.584783,37.08792607,3.713209203,522.3374046\\r\\nknelson@gmail.com,RoyalBlue,29.53242897,10.9612984,37.42021558,4.046423164,408.6403511\\r\\nwrightpeter@yahoo.com,Bisque,33.19033404,12.95922609,36.1446667,3.918541839,573.4158673\\r\\ntaylormason@gmail.com,DarkBlue,32.38797585,13.14872569,36.61995708,2.494543647,470.4527333\\r\\njstark@anderson.com,Peru,30.73772037,12.63660605,36.21376309,3.357846842,461.7807422\\r\\nwjennings@gmail.com,PowderBlue,32.1253869,11.73386169,34.89409275,3.136132716,457.8476959\\r\\nrebecca45@hale-bauer.biz,OliveDrab,32.33889932,12.01319469,38.38513659,2.420806161,407.7045475\\r\\nalejandro75@hotmail.com,Cyan,32.18781205,14.71538754,38.24411459,1.516575581,452.3156755\\r\\nsamuel46@love-west.net,LightSeaGreen,32.61785606,13.98959256,37.1905038,4.06454855,605.0610388\\r\\nmegan33@gmail.com,PeachPuff,32.91278511,11.36549203,37.60779252,4.599937358,534.7057438\\r\\nagolden@yahoo.com,Black,33.50308726,12.8779837,37.44102134,1.55915194,419.9387748\\r\\nvstafford@hotmail.com,Olive,31.53160448,13.37856278,38.73400629,2.245147787,436.5156057\\r\\ndenise22@hernandez-townsend.com,Silver,32.90325097,11.65757592,36.77260376,3.919302309,519.3409891\\r\\nyoungbarbara@yahoo.com,Wheat,34.507551,12.8936695,37.63575588,5.705153971,700.9170916\\r\\nwilliam25@mcconnell.com,Teal,33.02933195,11.76581265,37.73852495,2.721735992,423.1799917\\r\\nijones@schaefer-carr.net,Linen,33.54123131,12.78389178,36.43064962,4.648199316,619.8956399\\r\\nheatherhall@yahoo.com,MediumSlateBlue,32.33598964,13.00781942,37.85177917,2.996364526,486.8389348\\r\\ntinasmith@martinez.info,LemonChiffon,33.11020506,11.98204499,35.29308775,3.923488746,529.5376653\\r\\nchasejennifer@hotmail.com,DarkOrchid,33.10543794,11.96502,37.27781174,4.74257752,554.7220838\\r\\njenniferbarnett@gmail.com,SeaGreen,33.24190043,12.30541781,36.16364817,3.062368145,497.5866713\\r\\njared39@hotmail.com,SteelBlue,33.4610563,10.86916381,35.62244242,3.471413452,447.6879065\\r\\nbriancarlson@page-fleming.com,DarkMagenta,32.17550124,13.38749211,35.69417499,4.343062915,588.7126055\\r\\njoshuaodom@gmail.com,DarkGoldenRod,32.72836,13.10450724,38.87804051,2.820097234,491.0732237\\r\\nvickie90@lee-wilson.com,DarkSeaGreen,32.82030995,11.63489325,35.36862633,4.124585297,507.4418323\\r\\nduane56@hotmail.com,Gainsboro,33.61603789,11.9363865,38.768641,3.649286158,521.8835732\\r\\nenash@gmail.com,HotPink,31.72165236,11.7550237,36.76572236,1.847370423,347.7769266\\r\\nsandraharrison@bailey-gordon.net,LightSeaGreen,32.86532717,11.98441752,37.0443614,3.452388583,490.7386321\\r\\ncunninghamwilliam@hotmail.com,HoneyDew,32.74936818,9.954975969,37.38831487,4.650491269,478.1703341\\r\\nteresaallen@hill-leach.info,WhiteSmoke,32.56723048,12.48901322,36.37147981,4.222436225,537.8461953\\r\\nrhonda96@little.org,GhostWhite,32.07054622,11.73310622,37.53429101,4.671275461,532.7517876\\r\\nlisacabrera@yahoo.com,DarkSlateBlue,33.01954799,10.63456132,37.49669015,4.646119977,501.8744303\\r\\njasonrichardson@elliott.com,Chocolate,33.79203908,12.50752537,37.14286198,4.214495086,591.1971782\\r\\nhoovernicole@dorsey.net,HoneyDew,32.89398062,11.52987821,36.88808605,4.64325855,547.2443434\\r\\nchristopher20@gmail.com,Snow,32.04448613,13.41493474,36.11243501,2.258686387,448.2298292\\r\\nbrianwilson@yahoo.com,BurlyWood,34.55576799,12.17052542,39.13109673,3.663105491,549.8605905\\r\\ngonzaleskatie@gmail.com,Moccasin,34.56455771,13.14655143,37.33544589,3.876875177,593.915003\\r\\nlsmith@chung.com,BlueViolet,32.7267846,12.98851015,36.46200326,4.113226123,563.6728734\\r\\ndongarcia@hotmail.com,MediumBlue,33.11721873,11.86412636,36.58272777,3.202531199,479.7319491\\r\\nkimberly46@garcia-nelson.biz,GreenYellow,31.66104982,11.39806419,36.5944567,3.198399272,416.3583536\\r\\nwilliam82@gmail.com,SandyBrown,33.25633547,13.85806246,37.78026469,5.976768126,725.5848141\\r\\nbrenda82@maldonado-gonzalez.net,MediumVioletRed,33.90022441,10.95679097,37.26687826,2.952668958,442.6672517\\r\\njosephgould@west.info,DarkBlue,34.18777483,10.32011626,37.4534051,2.094891706,384.6265716\\r\\nwbrady@yahoo.com,SandyBrown,33.76206924,9.984514397,35.9334493,3.855471685,451.4574469\\r\\nsmithtracey@mcgee.com,DarkOliveGreen,34.39016366,12.64519514,38.46832111,2.87459691,522.4041413\\r\\namberchase@fowler.info,GreenYellow,33.9252966,11.58865542,35.25224202,3.392050489,483.673308\\r\\ngregoryholmes@hotmail.com,DarkSalmon,32.6882293,13.76153285,39.25293095,2.995761183,520.8987945\\r\\njeffreydawson@gmail.com,DarkSeaGreen,34.30187022,10.56829469,36.17312563,3.315224754,453.1695024\\r\\nrjohns@gmail.com,DeepPink,32.84393022,11.83228622,36.81401056,3.471919137,496.6507081\\r\\njohn85@martin-morgan.com,Olive,33.75499473,12.06415663,37.27122169,3.970555628,547.3651406\\r\\nvcoleman@yahoo.com,SkyBlue,33.87978429,12.4955916,38.05260975,4.639320332,616.851523\\r\\nfloresarthur@yahoo.com,Magenta,33.07653561,9.607314688,36.49399255,5.081210092,507.212569\\r\\nryan36@gmail.com,DarkTurquoise,32.22729914,13.72862718,37.99702801,4.802630631,613.5993234\\r\\nchris67@ryan.biz,Silver,32.78977262,11.67006592,37.40874848,3.414688423,483.1597208\\r\\nkatie25@gmail.com,SpringGreen,32.77260993,13.27631301,36.60077705,3.462298847,540.2634004\\r\\nkyang@diaz.org,OliveDrab,34.37425805,15.12699429,37.15762409,5.377593584,765.5184619\\r\\ntadams@contreras.info,Aqua,33.07871721,12.69578975,35.35844431,4.001786346,553.6015347\\r\\ncraigcastro@burgess.com,OrangeRed,32.8052204,11.83547609,36.37506611,3.43959056,469.3108615\\r\\nellen24@anthony.com,LimeGreen,32.43075793,11.30623234,37.68040323,2.779520719,408.6201878\\r\\ndavisrobert@hicks-smith.com,SkyBlue,32.17909997,11.18753891,40.00518164,3.552649767,451.5756852\\r\\nwalkerlaura@peterson-yates.com,LightGreen,33.15417579,11.88749413,36.2650007,2.602287112,444.9665517\\r\\nmarc54@hotmail.com,SandyBrown,34.33589584,12.22893471,36.15719115,4.694322274,595.8228367\\r\\ngregoryrussell@yahoo.com,Teal,32.38625186,10.67465347,38.00658318,3.401522345,418.1500811\\r\\nwilliamsjohnny@ferguson.info,LightYellow,32.80869759,12.81711309,37.03153922,3.8515788,534.7771881\\r\\nhaydenrebecca@gmail.com,MintCream,33.87974497,13.58780608,38.26035344,3.258112883,578.2416051\\r\\nlangmatthew@hotmail.com,DimGray,32.04983939,12.23805735,38.73086174,3.120568915,478.7193569\\r\\ndavid43@richards.com,Indigo,33.55520742,11.55182117,36.62883429,2.837943164,444.2859075\\r\\npaulkemp@yahoo.com,LightSalmon,33.14207933,11.43337993,35.89243163,4.470282584,544.7798637\\r\\nfbryant@gmail.com,GreenYellow,32.59718266,10.88956686,38.21257083,4.442054329,488.7860611\\r\\nkimberlyfrederick@gmail.com,DeepSkyBlue,33.16713688,11.92884209,36.91463331,3.164943995,475.7590678\\r\\nsharon82@saunders.info,DarkGreen,31.51473786,12.59567131,39.60037647,3.751734552,489.812488\\r\\nfishermichael@ramos.com,LimeGreen,34.59402115,10.94725858,35.88399439,3.159754444,462.8976362\\r\\nilawson@hotmail.com,DarkGoldenRod,33.50136982,13.89808199,37.05891282,4.130562809,596.4301726\\r\\nshafferdaniel@murphy-harris.info,Turquoise,32.40237102,10.87555955,37.78114256,1.914089924,338.3198626\\r\\nstevenanderson@yahoo.com,LightGreen,34.65548568,10.3380727,36.15725594,4.396651901,533.5149353\\r\\nrichard16@boyer-pratt.com,LightSteelBlue,31.80930032,11.63466822,36.18253928,5.113319475,536.7718994\\r\\nhyoung@jones.info,Cornsilk,33.8777793,12.51766629,37.15192066,2.669941624,487.379306\\r\\nerik46@hotmail.com,LemonChiffon,34.44787144,10.60772387,36.81909551,3.366463743,473.7289665\\r\\nrojasmichael@wagner-thomas.com,DarkKhaki,31.95630056,12.8288934,36.95161668,4.571213024,547.1259317\\r\\nlance88@briggs.com,FireBrick,32.60558364,12.06881608,36.1050005,3.917451119,505.1133435\\r\\nanthony09@hotmail.com,LightSeaGreen,32.4914466,12.53035737,37.8752191,2.476139051,449.0703194\\r\\naudreyjohnson@rosales.com,SlateGray,33.61601855,13.5162843,36.77312349,4.125584363,611.0000251\\r\\nbeth76@yahoo.com,Crimson,33.47160053,11.66226343,36.05024078,3.997255378,515.8288149\\r\\nlarrywest@davis.com,MidnightBlue,33.71065306,13.66474788,37.72438616,1.36267408,439.0747667\\r\\nraylopez@hotmail.com,DarkGoldenRod,32.1977238,11.83023109,36.6338567,4.193324636,514.0889577\\r\\nmiddletonrenee@gmail.com,DarkCyan,32.46121245,13.29114305,38.63362565,3.8710034,543.3401663\\r\\ngrichardson@ryan.info,SteelBlue,33.79038721,11.94234087,38.06341359,4.081802695,521.1429518\\r\\nesmith@gmail.com,OldLace,34.18382052,13.34991294,37.82739423,4.252006106,614.7153338\\r\\nmichael53@munoz.com,MediumBlue,32.28866691,12.02011209,39.07440021,3.911708668,507.3900618\\r\\njacqueline46@mcdonald-smith.biz,Gray,33.82635201,12.08409173,35.89035796,3.021671822,495.2994425\\r\\nbriannasantana@gmail.com,LightPink,32.49839307,13.41075918,35.99048895,3.184618662,518.064558\\r\\nmark52@yahoo.com,BlanchedAlmond,31.8854063,11.28193107,37.38531755,2.877224878,390.103273\\r\\nacampbell@sanchez-velasquez.info,Wheat,32.42569728,11.44890154,37.58019043,2.586967985,420.7376732\\r\\nqgarcia@williams.com,Aqua,33.43782956,12.59542035,36.2620318,2.969640227,492.1050524\\r\\njenniferking@hess.net,BlueViolet,31.38958548,10.99422392,38.07445242,3.428859904,410.0696111\\r\\ntaylor91@hotmail.com,CadetBlue,33.46869995,13.08550576,35.84582711,2.926940235,497.5136833\\r\\nafry@ford.biz,PaleTurquoise,32.2917561,12.19047429,36.15246209,3.781823039,494.5518611\\r\\namandadean@gmail.com,DimGray,32.06377462,10.71914974,37.71250864,3.004742536,378.3309069\\r\\nbrenda68@hotmail.com,Moccasin,33.1556997,12.93155027,38.16643556,3.854473856,570.4517259\\r\\nbakerdrew@gmail.com,Chartreuse,33.35687434,13.45212896,38.50300885,3.318822279,549.0082269\\r\\nconnorlambert@yahoo.com,Khaki,31.8530748,12.14937549,37.32533422,3.361814624,459.2851235\\r\\ntknapp@yahoo.com,MediumSpringGreen,32.01230077,12.17833133,37.71598618,3.722561173,492.9450531\\r\\ngarcialisa@yahoo.com,LemonChiffon,32.38845163,11.01048213,38.41504158,3.54354705,424.7626355\\r\\njosephallen@hotmail.com,PeachPuff,32.65318146,11.60253219,37.30968877,2.789461516,422.4267759\\r\\nhailey18@yahoo.com,Lime,32.93133644,12.73221159,35.60082055,5.485976734,642.1015787\\r\\nwhess@hotmail.com,Tomato,33.2356065,11.22336889,37.69230086,2.594189721,413.3717831\\r\\njosesims@hunter.com,SlateBlue,33.9257949,12.01102188,36.70105232,2.753424169,479.2310929\\r\\ndtaylor@webb.com,Orange,33.05926409,11.7259101,35.9990993,5.004820577,593.0772413\\r\\nbriangonzales@gmail.com,Fuchsia,32.40173183,12.08930957,38.3099079,3.873337569,506.5473071\\r\\njared99@yahoo.com,GoldenRod,33.88994101,13.06863858,37.54052036,3.798725319,571.3074949\\r\\nqchristian@martinez-allen.com,GreenYellow,34.56938122,12.85499037,35.00748226,3.292797663,576.3111774\\r\\nngarcia@donaldson.info,ForestGreen,33.7016052,11.56402237,37.67321037,4.716104987,576.8025474\\r\\nscastillo@hotmail.com,Moccasin,33.26833022,11.1133299,37.38794554,4.01872661,514.2395207\\r\\njoshua56@garcia.com,Indigo,31.35847719,12.80988347,36.54966799,3.63770128,495.1759504\\r\\nrichard81@day.org,SlateBlue,33.01479222,11.76117233,37.57016384,3.834169667,514.3365583\\r\\njessica97@hotmail.com,Cyan,31.57613197,12.57989417,37.09326487,4.531986607,541.226584\\r\\nangelaphillips@gmail.com,MintCream,32.65726859,11.95792306,36.63465233,4.106055152,516.8315567\\r\\ndonald67@harrison.com,Lime,34.7093233,10.65179378,37.14600653,3.218265385,468.4457372\\r\\nzmalone@yahoo.com,Moccasin,34.53665918,12.75207661,36.71413784,3.283663455,548.2803202\\r\\nrlindsey@norris.com,Green,32.77171501,11.54083244,37.52642103,2.924020725,431.6177338\\r\\nlewisgabrielle@hotmail.com,LightSkyBlue,33.70040046,11.92439492,37.24503247,3.905250309,552.9403455\\r\\nkristina69@gmail.com,BlueViolet,32.43977025,12.42413041,38.94882503,4.920318406,573.3062223\\r\\nkrista86@norton.net,Azure,34.312167,11.81058676,37.41413357,2.473596121,452.627255\\r\\nchelsea05@hansen.com,LightGray,32.45517629,12.75916898,36.59911235,4.131276648,542.7115581\\r\\njill33@allen.com,DarkCyan,33.54097679,11.85189083,37.42454792,1.767730708,407.8040306\\r\\nwelchashlee@hotmail.com,GreenYellow,33.35839828,12.70368793,36.10091445,2.724108202,482.3535703\\r\\ndawnlewis@watkins.org,Crimson,32.68612926,12.21525242,36.59436168,3.89711586,529.2300901\\r\\nashleychristopher@gmail.com,MediumOrchid,34.55829461,11.281445,36.49440648,2.491671541,433.0487691\\r\\nacontreras@hotmail.com,Sienna,33.54774794,10.73536292,37.45837473,3.863425442,476.1914133\\r\\nalvaradoadam@jones-thompson.com,Aquamarine,31.95490386,10.96313178,37.32728269,3.5786339,439.9978799\\r\\nthomasgeorge@gonzalez-grant.com,FloralWhite,31.06621816,11.73509455,36.59937399,3.958892264,448.9332932\\r\\nsolischristina@gmail.com,SlateBlue,31.85125313,12.41896198,35.97765171,3.25174177,472.9922467\\r\\njacksonboone@rubio.com,Sienna,32.60928264,10.53730754,35.7305524,3.914384667,463.923513\\r\\nkaitlyn78@chang.com,LimeGreen,32.11511907,11.9192424,39.29404346,1.443515075,350.0582002\\r\\nfrancisgeorge@thomas.org,Teal,33.92462481,11.91141556,38.2747022,2.910037917,460.0612774\\r\\nlinda90@yoder.org,WhiteSmoke,33.4771904,12.488067,36.51838359,3.345570976,505.7711403\\r\\ndavid79@lopez-montes.com,Purple,32.11640012,12.38069498,37.23200331,3.089527782,463.4849954\\r\\nmicheleblanchard@lopez-greene.com,SlateGray,32.2559012,10.48050683,37.33866962,4.514122441,479.7319376\\r\\npmercado@rodriguez.com,LightPink,32.69239222,12.29651768,36.95155521,1.825884669,424.1854943\\r\\njames30@carter.biz,LimeGreen,32.38473266,10.8616042,36.58443762,3.993656513,465.8893127\\r\\nparkerkayla@miles.com,DarkSlateBlue,34.33872939,10.71635514,38.30720401,2.652158305,426.775216\\r\\nalicia85@lee.com,DimGray,32.88710465,12.38718417,37.4311591,6.401228838,684.163431\\r\\ndominguezjacob@hotmail.com,CornflowerBlue,32.51021799,10.98483589,37.39649748,5.391275125,555.8925954\\r\\nebrown@osborne.com,DarkSlateGray,31.94539575,12.96576148,36.9663889,6.076653638,657.0199239\\r\\nnathan86@hotmail.com,MidnightBlue,36.13966249,12.05026723,36.95964319,3.864860739,595.8038189\\r\\naaron11@luna.com,LightSkyBlue,32.44952156,13.45772494,37.23880567,2.941410754,503.9783791\\r\\nfsnow@ellis.com,MediumBlue,32.29464155,12.44304789,37.32784804,5.084861309,586.1558702\\r\\nasilva@yahoo.com,Wheat,34.60331112,12.20729849,33.91384725,6.922689335,744.2218671\\r\\ncasey21@johnson.com,SpringGreen,33.59852032,11.58631953,39.09462703,3.60439856,512.8253581\\r\\ncampbellross@yahoo.com,DarkRed,34.56868085,11.37808709,38.30447119,3.78493211,528.2238094\\r\\nblevinseric@stephens.com,Orange,32.83810016,12.3643416,38.03910939,3.309182328,468.9135013\\r\\nstevenking@patterson.com,LightGray,33.50370518,12.39943608,35.01280603,0.968622116,357.5914394\\r\\nsamuel94@hotmail.com,DarkViolet,33.30188161,12.54248105,38.3113649,3.768561963,536.4231045\\r\\njohnsonpaul@keller-woodard.org,LimeGreen,30.87948434,13.28043224,36.93615938,3.585160635,490.2066\\r\\ntwilliams@gibbs.net,CadetBlue,33.15425476,11.79588668,37.65861691,4.520353377,550.0475806\\r\\nteresapacheco@salinas.biz,DarkMagenta,32.04780098,12.71803917,37.66110668,3.6758488,513.4505712\\r\\nallison80@carson-hansen.com,ForestGreen,33.63080077,12.03964784,38.92408705,2.873007509,497.81193\\r\\nturnerryan@hotmail.com,LightSkyBlue,34.04663803,12.47445545,35.03785616,4.055775962,578.9862586\\r\\nwalkererica@scott.com,MediumAquaMarine,33.644177,13.16002004,36.40774745,3.015175299,506.5363931\\r\\nmark94@yahoo.com,Salmon,32.65462161,11.05232365,37.63300942,4.717102513,501.7492333\\r\\ndaniellecuevas@hotmail.com,LavenderBlush,33.42874704,10.63676108,37.57883524,2.926396449,421.9667942\\r\\ngbarnes@gmail.com,Green,31.86483255,13.44340599,36.87831537,2.361086947,439.8912805\\r\\ncody68@hotmail.com,SpringGreen,34.48238805,13.28303287,35.90729843,4.968742674,666.1255917\\r\\nfischermonica@gmail.com,Navy,32.52976873,11.7477317,36.93988205,0.80151572,298.7620079\\r\\nbrenda25@gmail.com,OliveDrab,33.4322314,10.85960853,38.83567008,3.669225611,465.1766233\\r\\ndavid58@yahoo.com,LightSalmon,33.30857162,11.69168613,37.48091198,1.715777167,373.8857237\\r\\nclifford76@johnson.com,RosyBrown,32.33263707,11.54876144,38.57651555,4.773503047,532.7174857\\r\\njacquelinehughes@bennett-branch.info,DeepPink,34.71345123,11.72400223,36.81385766,4.087837273,554.900783\\r\\nvictoria53@hotmail.com,Pink,32.635878,12.17857308,35.67425603,4.13175504,537.7731625\\r\\ncunninghamkyle@ellis-parker.org,LightGreen,33.07570303,12.31984506,37.81915511,3.442799202,501.1002452\\r\\njjones@yahoo.com,GreenYellow,32.23014912,11.08436084,37.95968432,4.72402744,517.1651356\\r\\nmichaelferguson@torres-miles.net,Sienna,34.14286337,13.17777453,38.85604171,3.230973843,557.5292736\\r\\ncrawforderik@price.org,DarkKhaki,32.49719846,12.83280284,37.67924462,2.972271382,493.719193\\r\\njlawson@mccarthy.com,LightGray,33.12239998,11.509048,37.25305774,3.182329732,452.1226251\\r\\nmarshchristopher@zimmerman-villegas.com,DarkRed,33.08852937,11.85766344,36.08693433,4.806349619,577.273455\\r\\noolson@collins.com,Aqua,32.53379686,12.29336584,37.0646212,3.620364988,485.9231305\\r\\nisaiahcampbell@yahoo.com,Red,32.48426048,10.93325228,36.54550623,3.261324745,425.745092\\r\\nkcannon@alvarez-cline.info,Lavender,32.54345917,13.33283928,37.96439033,3.597459969,537.2150527\\r\\nnielsencarmen@harrell.net,DeepPink,32.28312306,10.90255623,36.09424195,4.789201624,524.6379646\\r\\nefreeman@moore.com,White,32.20079864,12.27698171,38.23260623,3.316464745,478.8853913\\r\\nroblessarah@hotmail.com,MediumSeaGreen,34.71331651,12.03880824,37.63529941,4.632460946,612.3852299\\r\\nchristopherhaas@gmail.com,MediumPurple,32.71251233,11.72447386,37.1531516,3.308443001,476.7667242\\r\\nethomas@yahoo.com,LightGreen,33.69489765,11.2026699,35.49396408,4.01598664,505.1196375\\r\\nwevans@gmail.com,Tan,31.57020083,13.37806333,36.33780003,4.369366794,545.9454921\\r\\npatrickorr@yahoo.com,LawnGreen,33.45947685,11.38861262,37.90913872,2.566639844,434.0216998\\r\\nmary84@edwards.com,LightSkyBlue,31.8209982,10.77107406,37.27863979,3.519032434,424.675281\\r\\nlongwilliam@gmail.com,BurlyWood,32.73322416,11.81857176,37.10203133,1.503854421,352.5501082\\r\\nlisagutierrez@johnson-herring.net,Peru,32.4071483,13.80879868,37.42676892,5.039955264,662.9610878\\r\\ndavid81@hotmail.com,Thistle,33.50609228,11.65983284,37.28139283,4.478712608,560.5601606\\r\\njacksonking@mccormick.com,DarkMagenta,30.83643267,13.10010954,35.90772143,3.361612985,467.5019004\\r\\njessica04@christian-riley.com,LemonChiffon,34.87849495,13.06789568,36.67822227,1.920715478,504.8704324\\r\\nsimmonsmartin@hardy.com,MediumVioletRed,34.00721197,12.49432293,36.04545942,4.330714462,590.5627196\\r\\nmichellejohnson@sanders-rodriguez.com,Teal,31.52575242,11.34003593,37.03951365,3.811248171,443.9656268\\r\\ntylerhernandez@barton.info,SlateGray,31.04722214,11.19966096,38.6887091,3.088763958,392.4973992\\r\\nconnerjoseph@gmail.com,Turquoise,34.59577669,11.33248778,35.4598628,4.541695257,568.7175759\\r\\njeffrey54@mcdonald-williams.com,Gainsboro,34.96760989,13.9194944,37.95201319,5.066696864,712.3963268\\r\\nhevans@kelly-nunez.org,Orchid,32.29524763,11.03135834,38.25297827,3.107468683,413.2959992\\r\\nlewiskendra@yahoo.com,Yellow,33.32424052,11.08458409,36.77601658,4.746989703,562.0820454\\r\\nfreemantina@cannon.org,AntiqueWhite,32.90345433,10.54264542,35.5338635,3.09182687,412.0129313\\r\\nwagnerbrian@hotmail.com,AliceBlue,32.55949313,11.79779551,37.7773658,3.195625776,468.6684656\\r\\nmelissa08@nelson.com,Tomato,31.76561882,12.44261655,38.13171203,3.850279639,496.5540816\\r\\nkarina59@gmail.com,PapayaWhip,34.0816462,12.10454243,36.05964598,3.97452248,548.5185293\\r\\nbaldwinbryan@estrada-silva.biz,MediumSeaGreen,33.30443129,12.37849022,38.76429717,3.843848921,536.1308969\\r\\naudreyguerrero@carey.com,BlueViolet,34.33075044,13.72245368,35.77311639,2.90900846,558.4272572\\r\\ndrew29@hotmail.com,Tomato,32.07894758,12.72590932,36.5446641,1.139093538,357.8637186\\r\\nmichael00@yahoo.com,DarkSlateGray,33.605799,13.6851189,34.89198327,2.685284836,529.0566632\\r\\njgray@khan-allen.com,Gold,32.74515048,10.01258337,38.35495987,3.108911449,387.3570727\\r\\nbushsusan@hotmail.com,Moccasin,32.1223648,11.43553387,36.22355746,4.852842407,528.9336186\\r\\ncharris@gmail.com,MediumSeaGreen,32.53082944,12.35460708,37.12234521,2.307552421,420.9161595\\r\\nlongphillip@yahoo.com,LightGreen,31.73663569,10.74853366,35.73870747,4.835528667,496.9334463\\r\\nmadisonalexander@gmail.com,Orange,34.11756669,11.59187167,37.7436197,3.678589399,519.3729768\\r\\nmfoster@brown-white.com,Cyan,33.63662446,11.23650676,37.67502073,5.254708926,591.4377356\\r\\nsanchezkara@hotmail.com,SlateBlue,34.33486453,11.10945633,38.58585476,3.89289148,502.4097853\\r\\nfloresbradley@hotmail.com,BlanchedAlmond,34.81498394,12.11494496,36.28872395,4.389455226,604.3348401\\r\\nlamryan@curtis-garcia.net,LavenderBlush,34.64266976,11.86648121,37.71777057,4.003325039,555.0683941\\r\\nalexandra26@summers-davis.com,Navy,32.83694077,10.25654903,36.14390846,0.789519908,256.6705823\\r\\nocortez@gmail.com,MediumBlue,32.29964716,12.16859647,37.07361617,4.403369831,547.1109824\\r\\nmelinda39@morton.info,Moccasin,31.94801742,13.08535689,37.6056528,2.64859677,461.9208769\\r\\nlisa94@jackson.com,CadetBlue,32.7273192,13.01337563,36.65127792,2.367848224,458.3769107\\r\\nlucastaylor@yahoo.com,MediumTurquoise,33.94624062,10.98397673,37.95148946,3.050712973,436.2834981\\r\\napark@walsh-obrien.net,DarkGreen,32.35147815,13.10515852,35.57484167,3.641497162,532.9352188\\r\\ndominguezmaria@gmail.com,RoyalBlue,34.17375202,12.14474854,37.25803146,3.397363093,512.5525344\\r\\njimmy11@hardin.com,DarkGoldenRod,32.97518183,13.90991551,37.79223754,4.297686524,630.4227632\\r\\npatriciajackson@jenkins.info,Thistle,32.00475302,11.39520943,37.33281446,3.803364999,463.7459811\\r\\nrayvanessa@fischer.com,White,34.19705969,13.03356618,37.07679516,2.633419989,493.1802162\\r\\ngharrison@davis.com,MediumSpringGreen,33.17720467,11.62277717,35.96889569,3.634093727,501.2091727\\r\\nalexandermichael@hotmail.com,WhiteSmoke,32.69323954,12.6007504,37.37011822,3.467014066,501.9282649\\r\\nchristopher66@hotmail.com,BurlyWood,31.62536013,13.18791099,37.06708997,1.494310895,376.3369008\\r\\narcheremily@baldwin.com,YellowGreen,31.26064687,13.26676035,36.9711951,2.267251114,421.3266313\\r\\nhornesteven@gmail.com,White,31.7207699,11.75234317,38.57360523,5.023934201,538.7749335\\r\\nwilliam28@gmail.com,Cyan,32.92261076,11.56811634,36.90937821,2.47175067,398.1634685\\r\\nkarenosborne@yahoo.com,SlateBlue,32.68624509,12.63857212,36.09722093,4.297737482,571.4710341\\r\\nchansen@holt.com,LightSkyBlue,34.05094676,11.38864458,39.08156475,2.436958876,451.6286105\\r\\nhallthomas@lane.com,DarkTurquoise,32.45455254,11.8229833,36.94612578,3.656983927,490.6004425\\r\\ntaylorkimberly@yahoo.com,Gainsboro,31.28344748,12.72567737,35.96566746,5.000243361,591.7810894\\r\\nclester@yahoo.com,LightCyan,32.9800292,11.20115977,37.68933698,2.412830961,409.0704721\\r\\npvega@hotmail.com,LightCoral,31.90962683,11.34726361,36.32365247,5.314354141,563.4460357\\r\\nvmartin@yahoo.com,Turquoise,34.40240965,14.22097911,37.52319665,4.077775098,647.6194557\\r\\nandreperez@hotmail.com,DarkOliveGreen,32.95976431,11.54627576,36.94795369,3.275070681,448.340425\\r\\nanntaylor@hotmail.com,Teal,33.78015676,11.91763618,36.84473382,3.634996006,518.7864831\\r\\nhickmanelizabeth@yahoo.com,DeepPink,32.67294353,12.27605698,37.19279353,3.982471513,523.6339351\\r\\nhalljohn@yahoo.com,MediumTurquoise,32.72852076,10.13171246,34.84561239,3.287701824,393.857371\\r\\ncohensean@yahoo.com,DarkCyan,33.40992259,12.02694222,36.13389429,2.313349885,426.1545477\\r\\njmartinez@anderson.org,PeachPuff,31.72420252,13.1722875,36.19975347,3.557813698,503.3878873\\r\\ncbrady@gonzalez-miller.com,Aqua,32.7111193,12.32629139,36.67387836,3.350279288,482.6024673\\r\\npkline@hotmail.com,MediumTurquoise,33.13665525,13.89131342,39.22071295,2.907094935,524.7976276\\r\\nmartha91@garrison.net,HotPink,34.37939438,12.93092854,36.3602472,3.792711955,574.6548434\\r\\nmaureenlopez@gmail.com,SeaShell,35.53090415,11.37925718,36.63610412,4.029453828,574.7472197\\r\\nrussellbaldwin@ferrell.info,Orange,33.24726795,14.06938234,38.99332245,4.978475793,660.4251843\\r\\namandastanley@yahoo.com,CadetBlue,32.09610899,10.80489056,37.37276215,2.699562055,375.3984554\\r\\ngeorge02@hotmail.com,LightCoral,35.03928306,14.42649105,37.3741835,3.930615327,640.18774\\r\\nswilliams@ball-arroyo.com,Orchid,32.55052657,13.04124459,36.65520808,3.456233824,514.0098178\\r\\ntaylorjared@foster.net,Crimson,32.58249357,11.7397438,36.85481082,2.18201697,376.4968407\\r\\nkeith13@yahoo.com,LightGoldenRodYellow,33.29698192,12.49105874,38.23894085,2.709526627,484.5198091\\r\\nschmidtdenise@hotmail.com,DarkGoldenRod,33.10833615,12.89237451,36.5273883,4.594116865,614.7296376\\r\\njasmin20@salas.com,HotPink,33.90271779,11.66886651,37.34126616,4.25698329,567.4750105\\r\\nchristophermorrison@mcguire-carter.biz,Blue,34.55528259,11.77777204,37.97982686,3.784273087,554.0030934\\r\\ndeborah51@yahoo.com,Violet,33.73264839,12.13879388,36.85388246,1.623419609,399.9838716\\r\\nmelindahartman@gmail.com,Pink,31.6005122,12.22296745,36.82275323,3.41450624,479.1728515\\r\\nsharper@yahoo.com,SandyBrown,34.31892744,13.4023319,37.29204471,3.606086889,585.9318443\\r\\njessicabrewer@simmons.net,LightBlue,34.00648892,12.95627661,38.65509454,3.275733705,540.9957391\\r\\nbeckycarson@jones-brown.biz,Gold,33.54047906,12.88412462,36.22604169,5.007271987,628.0478039\\r\\njennifer24@hotmail.com,SteelBlue,34.43642584,13.3254691,36.76860309,3.371258113,582.4919237\\r\\njeremy00@yahoo.com,FloralWhite,33.55169914,12.15858523,36.57513378,5.453969475,640.7861664\\r\\nwellsjuan@schroeder.com,Green,31.81861657,11.22654566,35.66993517,3.755869389,446.4186734\\r\\ngregorystewart@hotmail.com,PaleGoldenRod,32.36312129,12.46113544,37.74560774,4.664258497,570.6300981\\r\\ntammyjones@griffin.com,Navy,33.19157088,9.846124909,36.87631323,3.806670949,423.3083341\\r\\ndjohnson@hotmail.com,Coral,32.19249883,13.32541219,36.89729461,5.049927475,616.660286\\r\\nkenneth27@smith.com,DarkGreen,32.60790272,13.67724584,37.7446997,2.871947536,530.3624689\\r\\njohnathan33@yahoo.com,LightSteelBlue,32.26200311,11.64496955,37.02687697,3.236732814,442.3631174\\r\\ncarrillojacob@perry-larsen.com,Aquamarine,32.27184828,13.48500899,37.55088041,3.086337272,511.97986\\r\\ngreenelizabeth@edwards.com,DarkViolet,33.79512493,11.62099651,38.41946853,4.559699083,560.4437922\\r\\ndenisemorrow@johnson-james.net,MediumSpringGreen,31.65480968,13.01445915,37.78903635,3.010209778,475.2634237\\r\\nwandaphillips@leonard.com,OliveDrab,33.07773079,11.46698422,35.67572763,1.809229592,374.2696745\\r\\nzachary94@gmail.com,Purple,31.3123496,11.68490419,38.7170763,3.5942951,463.591418\\r\\nppowell@gmail.com,BlueViolet,32.87273861,12.09396636,36.62077386,3.049195744,471.6028844\\r\\nbhill@pierce-kane.info,RoyalBlue,33.70815341,14.32565494,35.72182733,3.634340224,626.0186727\\r\\nmatthewgraves@mills-shaffer.com,DarkSeaGreen,33.90856503,12.91484663,39.06886445,1.482359644,432.4720613\\r\\nnwagner@yahoo.com,AntiqueWhite,32.31290975,9.82440177,35.74277913,2.921350141,356.6155679\\r\\njamesfaulkner@hoffman-wolfe.org,Blue,34.39432665,12.80775183,38.55103029,1.810079876,467.4278485\\r\\nphillipscarrie@gmail.com,FloralWhite,32.42330473,13.05827793,37.26387556,3.373104674,503.2173931\\r\\nsamantha84@cortez.com,Navy,33.53939635,10.5345535,37.03479129,2.214797519,378.4735664\\r\\nedward29@knapp.com,DarkOrange,33.37401693,11.14343308,35.94639915,5.454463278,584.2183135\\r\\nhannahgilbert@gmail.com,Aqua,33.79475594,10.98280553,34.81063145,3.201801722,451.7278633\\r\\nlschroeder@gmail.com,Ivory,33.7709001,11.15396605,37.24032955,4.729484542,557.634109\\r\\nthomaswendy@yahoo.com,LavenderBlush,31.30919264,11.94717532,36.19083324,3.205529765,432.7207178\\r\\nfuenteskathryn@schmidt-johnson.org,Cyan,33.61256335,11.470565,37.06168877,3.802511439,506.42386\\r\\nmelissa08@rowe.net,Tan,33.39826013,11.03785041,38.61733445,4.116340467,510.1598173\\r\\nbradleysmith@barber.com,PaleVioletRed,33.62259184,11.1673569,35.62658733,5.462500764,587.5747995\\r\\nmorganorozco@hotmail.com,LightPink,30.4925367,11.56293625,35.97656497,1.481616627,282.4712457\\r\\njohnsonhannah@gmail.com,Thistle,31.90485713,12.22772828,36.98591348,3.771420132,473.9498574\\r\\njavier02@landry.net,CadetBlue,33.02642035,13.18681287,38.0669296,2.898299578,489.9080531\\r\\nlmalone@gmail.com,AntiqueWhite,32.9751929,13.39445179,37.80697767,3.569046516,541.9722038\\r\\nbrandon77@richardson.com,GhostWhite,30.81620065,11.85139874,36.92504304,1.084585303,266.0863409\\r\\nbhamilton@shaw.biz,DarkOrchid,33.91401512,12.26650384,36.57503098,3.023474446,494.6871558\\r\\nrandyrobinson@hotmail.com,DarkGray,33.30267221,13.45922229,36.33952101,5.566384892,689.7876042\\r\\necruz@yahoo.com,Gainsboro,31.91207593,11.79297182,36.25781912,2.39516813,387.5347163\\r\\nwrightdanielle@gmail.com,DarkSalmon,32.40855896,10.98574015,37.36839124,3.504833486,441.8966315\\r\\ndeandanny@yahoo.com,Ivory,32.64461691,12.63755716,36.51708576,5.226687713,604.8413188\\r\\ndblair@gmail.com,MediumSlateBlue,34.10227851,8.508152176,35.46240008,1.838210702,302.1895478\\r\\nveronicapruitt@hotmail.com,Cyan,33.2485062,11.65659203,36.54860515,3.363411394,479.6148117\\r\\ndavischristina@hotmail.com,SeaGreen,34.72908017,11.96689808,36.54759628,2.957448757,506.1323424\\r\\ndouglasdunlap@boone-rose.com,Purple,30.39318454,11.80298578,36.31576315,2.083814192,319.9288698\\r\\ndavid28@wallace-hill.org,LightBlue,33.38411057,12.67740144,35.62253059,3.680847338,528.309225\\r\\nwilliammoore@rose.com,Brown,32.87847437,13.03253498,37.87095205,4.693732058,610.1280331\\r\\nangela25@walker.com,Chocolate,34.50141785,12.44761745,37.53453024,4.008352235,584.105885\\r\\narice@reynolds.info,Thistle,33.56647439,12.23565925,37.27757338,2.532044062,466.4211988\\r\\nadam75@gmail.com,Purple,32.84879283,10.97316208,36.60950715,2.87098691,404.8245289\\r\\ncharlesgutierrez@hotmail.com,MistyRose,33.53186013,13.66576979,36.90022076,3.515688256,564.790969\\r\\ncodyandrews@hotmail.com,Indigo,33.41906735,13.39112018,37.19419105,4.069916619,596.516698\\r\\nwheelernancy@hernandez.com,Gold,32.49541877,12.96832561,38.29611037,1.200483857,368.6547849\\r\\ndrew27@ryan-thompson.com,PeachPuff,33.67402748,12.96889313,37.33310742,3.229450904,542.4124767\\r\\nsuzanne63@gmail.com,LightSalmon,33.26463207,10.73213134,36.14579171,4.086566338,478.2621264\\r\\nmitchellscott@gmail.com,DarkOrange,32.76245596,10.95235338,37.64629179,4.019470352,473.3604956\\r\\nlaurajimenez@gmail.com,SlateBlue,33.4794716,12.60888879,37.22939452,4.20590389,559.199048\\r\\nrogersheather@hamilton-jensen.org,MintCream,33.78520721,13.03951103,36.31272657,2.018194629,447.1876443\\r\\nievans@hotmail.com,NavajoWhite,33.21718784,10.99968366,38.44276669,4.243812817,505.2300683\\r\\njohn85@rodriguez.info,Tomato,31.12809005,13.27895623,37.38718053,4.626075292,557.2526867\\r\\nphillipsmark@byrd.net,DarkSeaGreen,33.36951736,10.62794923,38.04031367,3.002957023,422.3687366\\r\\nelizabeth61@berg-braun.com,Lavender,32.83789305,13.18518117,35.92159519,1.823595183,445.0621855\\r\\ndbenson@simpson.net,DodgerBlue,30.57436368,11.35104901,37.08884658,4.078308002,442.0644138\\r\\nstephaniehill@hotmail.com,Wheat,32.27459383,12.95481145,37.10881638,3.689916615,533.0400602\\r\\ndavisbriana@gmail.com,MediumVioletRed,33.144234,11.73704064,37.93518905,2.190132185,424.2028271\\r\\nkday@gmail.com,Magenta,33.48551976,11.8873453,35.86244708,3.206756698,498.6355985\\r\\njonathanconner@morales.biz,SeaShell,31.97648006,10.75713093,36.59586795,1.977007128,330.594446\\r\\nanneingram@miller-alexander.com,HoneyDew,32.13386241,11.61265077,39.2488039,3.349245383,443.4418601\\r\\njeffery48@mcguire.com,LightCyan,32.3025531,11.97906148,38.26906069,3.53286158,478.6009159\\r\\ntheresamitchell@martin-chambers.biz,Khaki,31.82797906,12.46114744,37.42899737,2.974736815,440.0027475\\r\\nchristianwade@butler.info,Crimson,32.01807401,10.07946345,38.07066426,2.61816531,357.7831107\\r\\ntina16@santiago.com,White,32.997459,12.58924056,37.33224075,2.804013693,476.1392469\\r\\nvancealicia@hotmail.com,RoyalBlue,31.81642833,14.28801459,36.77386137,2.964497876,501.1224915\\r\\ndbell@hotmail.com,DarkViolet,34.46151474,11.9171157,37.76668677,4.350887844,592.6884532\\r\\npamelahampton@martin-cobb.com,DarkSeaGreen,32.34279623,11.40964462,35.77778217,3.872432042,486.0834255\\r\\nmark81@wagner.com,Navy,32.30274837,12.81539265,37.95780983,4.615426307,576.0252441\\r\\nawerner@manning.com,Gray,33.06644066,11.67322925,37.84065508,2.727209454,442.7228916\\r\\nrobertramirez@kaiser.com,Purple,33.89464039,10.61053652,37.97738874,3.53712388,461.7909591\\r\\njustin26@gmail.com,RosyBrown,32.76566459,12.50654819,35.82346667,3.12650949,488.3875258\\r\\ndouglas95@yahoo.com,White,33.76981237,11.30446231,37.83397173,5.137816746,593.1564015\\r\\nqmorse@yahoo.com,MediumTurquoise,31.81248256,10.88692118,34.89782769,3.128638856,392.810345\\r\\njason50@bates.net,Bisque,32.00850452,12.09588949,36.37750903,3.178952405,443.197221\\r\\nqeaton@savage.com,SaddleBrown,33.30433662,12.69266143,37.33359061,3.827375915,535.4807752\\r\\ntluna@hotmail.com,YellowGreen,32.18984473,11.38677555,38.19748325,4.808320373,533.3965538\\r\\nkara33@gmail.com,LavenderBlush,34.93560511,10.72841854,36.88119241,4.048510087,532.1274491\\r\\nthomas22@yahoo.com,IndianRed,33.55165061,11.93689516,35.90025278,4.543332413,558.9481124\\r\\ndavid47@hotmail.com,DarkKhaki,32.38696867,12.7179951,35.12882235,3.481062133,508.7719067\\r\\nbeasleyjoseph@hotmail.com,SaddleBrown,33.34450869,10.96980287,35.97457811,2.627624971,403.7669021\\r\\nhoffmandaniel@yahoo.com,Orchid,33.67275789,13.42054574,37.7636904,4.794312263,640.5840619\\r\\ngarnerjustin@king.com,DarkCyan,34.00207092,11.85468192,37.49189221,2.761861926,461.6282784\\r\\nfrancesjohnson@lee.com,Aquamarine,32.65539704,11.91885971,35.71626916,2.159676023,382.4161079\\r\\nawu@robinson.org,Brown,32.05426185,13.14966956,37.6504002,4.195614413,561.8746577\\r\\nxevans@hotmail.com,DarkMagenta,33.22877227,12.6853939,36.04898625,2.139403004,444.5761441\\r\\nlauriewilson@jackson.com,Cornsilk,32.07759004,10.34787695,39.0451557,3.434559723,401.0331352\\r\\ncruiz@yahoo.com,LightSalmon,33.98100558,9.316289204,36.91495155,2.868428182,384.3260571\\r\\ntammy12@gmail.com,Chocolate,34.17951757,12.58154773,35.4442647,3.137068975,527.7829958\\r\\nadamperkins@terrell.com,PaleVioletRed,32.60273898,11.76444759,37.92270381,3.525806412,482.1449969\\r\\nwillie26@johnson-howard.com,Wheat,32.03054972,12.64420212,38.00182747,5.038107494,594.2744834\\r\\nyvaughn@meyer.com,OldLace,33.10035775,11.83211223,36.84149164,3.612239152,502.0925279\\r\\ncarolfarley@gmail.com,SlateBlue,32.99059904,10.44123506,35.9389625,2.895075163,407.6571788\\r\\nrhonda01@gmail.com,Orchid,34.38582029,12.72971951,36.2321098,5.705940717,708.9351849\\r\\ndavid80@knight.com,MediumAquaMarine,34.35719627,9.477777608,37.90601452,5.047022551,531.9615505\\r\\naaron04@yahoo.com,SeaGreen,33.7051128,10.16317906,37.76304108,4.778973636,521.2407802\\r\\nkaylahenderson@hotmail.com,MediumSpringGreen,32.40429505,11.60899794,38.11045691,2.966558885,447.3690272\\r\\nmholt@hotmail.com,LightSeaGreen,31.82934646,11.26825923,36.95696543,2.668919773,385.152338\\r\\ntanya20@gmail.com,DarkKhaki,31.36621217,11.16315954,37.08831936,3.620354589,430.5888826\\r\\naaron89@gmail.com,SaddleBrown,31.44744649,10.1016322,38.04345265,4.238296188,418.6027421\\r\\nhunterlucas@gmail.com,Turquoise,33.58294684,12.76153128,36.90818962,2.479339823,478.9514048\\r\\nsfarley@jones.com,AntiqueWhite,32.39742194,12.05534016,37.68546549,3.506967574,483.7965221\\r\\nsarahtran@dixon.com,GoldenRod,35.03744996,11.93593497,35.78392374,3.310150347,538.9419745\\r\\nrandywhite@armstrong.biz,Teal,32.78494023,12.45120001,36.66579137,3.535802468,486.1637991\\r\\ntsmith@yahoo.com,Bisque,33.97172204,12.28446707,38.29572526,1.13047696,385.0950071\\r\\nmartinezleah@carter.com,PaleGreen,33.38599019,12.78217179,35.55077227,3.228717686,527.7837898\\r\\nsteven00@combs.com,RosyBrown,33.55655567,12.96030713,37.95194632,3.345922321,547.1907494\\r\\nblakekent@smith-pena.com,Crimson,33.58737339,9.953995006,37.34573893,3.215666827,410.6029439\\r\\namanda03@yahoo.com,Brown,34.18818406,13.13002166,35.42933439,3.790552137,583.977802\\r\\nbrandonsmith@yahoo.com,Gold,33.59396355,11.52056679,36.1891318,3.561215271,474.5323294\\r\\nthardy@perry.com,SeaGreen,33.23626572,10.97255431,34.57402759,2.931619535,414.9350607\\r\\nmichael86@yahoo.com,LightYellow,33.2089197,13.53191346,38.95246252,3.046540621,550.8133677\\r\\nulee@wells.com,LemonChiffon,33.63781168,12.03950237,34.48718475,2.739200467,458.7811317\\r\\njudithsmith@jimenez.biz,DarkOrange,33.5904858,10.94206962,36.1704942,2.783963128,407.542168\\r\\nnblack@smith-romero.biz,LightCyan,34.19550803,12.66419262,37.02715036,4.330407444,581.3089329\\r\\nmichaelcampbell@yahoo.com,Gray,35.86023651,11.73066139,36.88214908,3.416209978,546.5566669\\r\\nrcarter@crane-thompson.org,MediumVioletRed,33.48193057,11.91867031,37.31770495,3.336339382,503.1750852\\r\\ndwhite@gmail.com,OrangeRed,33.25823783,11.51494907,37.1280395,4.662845304,549.1315733\\r\\nvancemichelle@gmail.com,DeepPink,32.31985797,12.4181132,36.1553362,3.222080767,482.8309859\\r\\nkylemelendez@hotmail.com,DeepPink,32.43083858,13.88727541,38.38195597,3.772969025,557.6082621\\r\\nrichard35@hale-duncan.net,GhostWhite,31.44597248,12.84649907,37.86921694,3.42014953,484.8769649\\r\\nwaltonkaren@gmail.com,Green,35.74266981,10.88982828,35.56543624,6.115198946,669.9871405\\r\\ncontrerastiffany@gmail.com,CadetBlue,34.01261946,12.91457009,36.04620352,3.488029991,547.7099886\\r\\nrogerstiffany@wilson-horne.com,DarkOliveGreen,34.14039343,11.56852664,38.91874854,4.082855279,537.8252823\\r\\nwaltercharles@sanders.net,IndianRed,32.37798966,11.97175079,37.19936753,2.829699575,408.2169018\\r\\njohn96@chan-anderson.biz,Snow,33.17233109,13.07869244,37.32981863,5.405406467,663.0748176\\r\\nbushsharon@barber.com,DarkSeaGreen,33.2473222,11.95642648,36.51734612,3.45175071,506.3758668\\r\\nnicolegay@jennings.com,BlueViolet,33.59891334,13.25273709,37.30596142,2.935577274,528.4193297\\r\\nrchambers@hotmail.com,OliveDrab,33.08529799,13.09353728,38.31564796,4.750360071,632.1235881\\r\\ngomezalicia@hotmail.com,MediumSpringGreen,32.27844335,12.52747174,36.68836654,3.531402303,488.270298\\r\\npotterkenneth@strickland.com,MediumSlateBlue,33.44155304,11.23596895,37.05261631,3.90447938,508.735741\\r\\ncharlesjackson@brady-fuller.net,GhostWhite,32.86530121,12.07483017,35.56917032,2.39907979,411.1869636\\r\\njacquelinewest@pace-herrera.com,Purple,31.5261979,12.04533198,38.50588333,2.847709026,409.0945262\\r\\nstevenjohnson@yahoo.com,SandyBrown,33.00084964,11.23074331,36.99529017,3.781703565,467.8009244\\r\\njohnsonchelsea@gmail.com,LightCyan,32.08838063,11.9078441,35.18912244,4.349778419,512.1658664\\r\\njenniferjenkins@jones.com,LightSalmon,33.26544447,13.05221039,38.7756653,4.574287716,608.2718166\\r\\nebutler@rogers-gonzalez.com,Chartreuse,32.9925732,13.00436201,36.98504142,4.620416385,589.0264898\\r\\nellenlucas@cox.org,DarkGoldenRod,33.86318871,11.52352268,35.93804523,3.0130325,444.0538266\\r\\nelizabethnunez@vasquez-nelson.net,Cornsilk,32.59209323,10.31471792,36.7290294,4.791108745,493.1812614\\r\\nramirezjacob@turner.com,Magenta,32.38103459,12.43312853,37.6269068,4.334001444,532.7248055\\r\\nbrian51@cook.info,SaddleBrown,31.5171218,10.74518855,38.79123469,1.428823877,275.9184207\\r\\nvictoriajohnson@gmail.com,DarkViolet,33.45430193,11.01675564,37.63731096,4.137000388,511.0387861\\r\\nlawrencewalton@hotmail.com,Chocolate,32.21552742,12.21685469,36.9539597,2.910530822,438.417742\\r\\nashleymoreno@gmail.com,DarkViolet,31.6739155,12.32914702,37.07437107,3.982462319,475.7250679\\r\\nwesleyvance@moore.com,Magenta,33.71755461,10.80696607,36.01231723,3.701229217,483.5431939\\r\\nedwardbrown@yahoo.com,HotPink,33.21547157,12.1351014,37.14209369,5.840505876,663.8036933\\r\\nyoungellen@hotmail.com,DodgerBlue,31.57413802,12.94155573,36.72527683,4.560396067,544.4092722\\r\\nrobin80@yahoo.com,Turquoise,33.89457039,13.30029936,36.39368386,4.490002066,630.1567282\\r\\ndana59@hotmail.com,Blue,33.12869269,10.39845771,36.683393,3.859817999,461.1122484\\r\\nbwilliams@hotmail.com,PaleVioletRed,34.37032705,11.88780042,37.86144726,3.046620189,491.9115051\\r\\nwhitetyler@anderson-avery.com,MidnightBlue,34.08026009,11.5914397,36.45689841,4.652854446,574.4156896\\r\\nrwilliams@trujillo.biz,BlanchedAlmond,31.42522688,13.27147504,37.23984661,4.02210291,530.7667187\\r\\nrandall85@williams.com,Black,33.62530726,12.9882206,39.67259096,3.969417759,581.7987977\\r\\nkevin45@mathews.net,DodgerBlue,31.86274111,14.03986726,37.02226899,3.738225173,556.2981412\\r\\ndeborah48@white.com,DarkGreen,33.29258731,11.90650776,38.42286529,3.3766875,502.1327892\\r\\nhoganrichard@george.com,BlanchedAlmond,33.74922777,11.1371403,38.40137369,4.595522709,556.1863689\\r\\nkelly24@lewis.info,Bisque,34.14496899,12.90266489,36.61119878,2.223993458,475.0716299\\r\\nkatherinegray@yahoo.com,Cyan,31.12397435,12.38651626,35.63211222,4.288486771,486.9470538\\r\\nefoster@williamson-boyd.org,Lavender,34.27824788,11.82272175,36.30854529,2.117382542,434.144202\\r\\njordandavid@gmail.com,Violet,33.66661568,10.98576379,36.35250277,0.936497597,304.1355916\\r\\nsanchezamber@scott-patterson.com,Fuchsia,32.25997327,14.13289346,37.02347924,3.762070443,571.2160048\\r\\ntinayoung@hotmail.com,MistyRose,35.4331653,11.91221048,36.08964366,4.000963586,583.0796357\\r\\nalicia28@fuller.com,CadetBlue,31.96732095,11.48158715,39.24096484,3.532517165,445.7498412\\r\\nrileyalejandro@gmail.com,LightSteelBlue,32.14906052,10.04731474,37.18144731,3.535088428,392.9922559\\r\\noliviamarshall@sawyer-sellers.com,Brown,33.91884418,12.42873693,37.30536188,4.158214653,565.9943634\\r\\nhortonrobert@hotmail.com,Salmon,33.20061634,11.96598027,36.83153585,3.549036057,499.1401524\\r\\nmontgomerycheyenne@hotmail.com,FireBrick,32.5367749,11.12136606,36.97937237,4.129254688,510.5394217\\r\\nmartinkristi@sanchez-coleman.com,Lime,34.0836633,8.668349517,35.90675637,2.252445963,308.5277466\\r\\njefferycampbell@gmail.com,GreenYellow,33.02502014,12.50421981,37.64583879,4.051382465,561.516532\\r\\nwebertom@phelps.com,DarkOrchid,31.26810421,12.13250911,35.45679815,3.072076141,423.4705332\\r\\naschmidt@johnson.biz,Blue,32.21292383,11.73299146,35.63395395,4.331863027,513.1531119\\r\\nlisadelgado@gmail.com,Olive,33.4995061,11.94659088,36.48632507,3.937862643,529.1945189\\r\\nsharongraves@yahoo.com,Wheat,32.90485367,12.55610762,37.80550943,0.26990109,314.4385183\\r\\nflevine@gmail.com,AliceBlue,32.20465465,12.48070152,37.68028761,3.27946626,478.584286\\r\\nrskinner@johnson-jefferson.com,OliveDrab,32.67515451,12.59419407,37.68387537,2.571777835,444.582165\\r\\nkiarakim@harris.org,Linen,32.99838766,10.94684194,37.64780806,3.826030618,475.0154071\\r\\nrachelrodriguez@lara-waters.com,LightSlateGray,33.94311858,11.48419869,36.83936583,2.402453833,436.7205559\\r\\ndbrown@gmail.com,Indigo,33.55210836,11.12087087,36.80837606,4.027813842,521.1953105\\r\\nmary45@gmail.com,Lime,33.67683087,10.97139243,37.72236711,3.629339915,478.1830597\\r\\nmarcusleach@floyd.org,SteelBlue,32.64194637,11.58894858,36.32214092,3.189609942,432.4811686\\r\\nlmunoz@yahoo.com,Olive,33.42121218,10.70664152,35.7661535,3.393975043,438.3037078\\r\\ndvasquez@wiley.com,HoneyDew,32.76707608,11.07625934,34.7797505,2.57494847,388.9405488\\r\\ndylanmartin@hotmail.com,MidnightBlue,33.11995443,12.95326254,37.03427958,3.47202138,534.7714849\\r\\nxkaufman@gmail.com,DarkViolet,35.37187609,10.5724666,36.86218335,4.198349061,537.9157529\\r\\njasonhensley@yahoo.com,Sienna,33.97608258,11.65803681,37.42527868,2.086348147,407.8763782\\r\\ngstrong@hotmail.com,Pink,34.03416353,13.59251266,36.83865679,3.605933918,618.8459704\\r\\narnoldsamuel@wilson.com,LightSkyBlue,32.77049216,11.37176736,35.26149812,4.03438613,502.7710746\\r\\nscottrose@yahoo.com,SaddleBrown,33.50381038,11.23341495,37.21115258,2.32055025,397.4205841\\r\\nsalazarkaren@hotmail.com,SteelBlue,31.87455169,10.29035077,36.92976156,3.491093337,392.2852442\\r\\nsusanibarra@yahoo.com,Thistle,32.53323998,14.12178384,38.40632901,5.320093864,689.2356998\\r\\nnhenry@hotmail.com,BlanchedAlmond,34.85131417,12.41554196,37.67232248,3.130538462,543.1326263\\r\\nmillerrachel@gallagher-nichols.com,Turquoise,34.21146128,10.77024892,34.64980005,4.985204971,577.7360249\\r\\ngarciakevin@gmail.com,Orange,33.45961932,12.66439052,36.36684325,1.726962043,436.5807403\\r\\nphilliproberson@yahoo.com,Beige,34.20053941,12.66780888,37.48704925,3.701622287,553.9946736\\r\\nkstafford@estes-nguyen.com,YellowGreen,31.1695068,13.97018107,36.67395274,1.785173945,427.3565308\\r\\nkennethperry@bowen.org,SlateGray,32.51819681,11.50925345,36.59928909,3.02267576,424.7287739\\r\\nprussell@lopez.com,Bisque,34.52301962,11.40577045,36.37827101,4.041244969,541.049831\\r\\nmosleyjacob@yahoo.com,Orange,33.66599032,12.26371768,38.86023443,3.139526935,469.3831462\\r\\nrhaas@yahoo.com,DimGray,31.60983957,12.7107013,36.16646339,2.562818811,444.5455497\\r\\nantonioharris@hotmail.com,MediumBlue,33.70088554,13.47157767,37.0716432,2.379076497,492.5568337\\r\\naustinthomas@gmail.com,AntiqueWhite,33.81173341,11.18680872,36.29889308,4.301996499,535.3216101\\r\\nbethsullivan@reed.net,Beige,34.33667722,11.24681261,38.68258378,2.094761669,408.9583359\\r\\nncummings@yahoo.com,Beige,31.06132516,12.35763811,36.16604163,4.089330841,487.5554581\\r\\nhking@hotmail.com,PeachPuff,33.0697683,11.76432596,36.87502581,3.516051017,487.6462317\\r\\nannstone@hotmail.com,LightPink,34.60624245,11.7618838,38.1265198,1.820810618,402.1671222\\r\\nchristopher44@hotmail.com,WhiteSmoke,34.23824191,11.55030011,35.76932963,4.183143662,551.0230017\\r\\nautumn88@mendoza-mills.com,MediumOrchid,32.04781463,12.48266992,35.53602453,3.393902788,497.3895578\\r\\ndhudson@ramos.net,Olive,30.97167564,11.73136429,36.07455114,4.426364081,494.6386098\\r\\negomez@hotmail.com,MistyRose,33.60685082,12.21407375,37.19842782,2.905238361,479.2474168\\r\\nkimberlyruiz@smith-gordon.com,DarkRed,33.44812501,11.90375668,36.8745436,2.782757828,462.6565189\\r\\nmooremichelle@logan.com,Pink,33.36938094,12.22248394,36.35523488,3.447017793,515.5024797\\r\\naaron22@gmail.com,DarkGray,33.45229528,12.00591637,36.53409567,4.712233579,576.4776072\\r\\nmichelleshepherd@price.com,Orchid,32.90469244,11.91374515,36.0586476,1.228112423,357.8579836\\r\\nzscott@wright.com,PeachPuff,35.63085386,12.12540197,38.18776368,4.019051427,597.7398789\\r\\ntracy79@wheeler.net,Magenta,32.24635,11.30555143,37.13312676,1.707389729,327.3779526\\r\\nbrian28@sanchez.org,GhostWhite,34.69559119,11.60899707,37.68487728,3.163091931,510.4013885\\r\\nleonardhancock@hotmail.com,SeaShell,34.34392191,11.6930582,36.81293413,3.447092896,510.5014785\\r\\ndavidsonkathleen@gmail.com,DarkBlue,33.68093695,11.20156988,37.83544773,2.208813678,403.8195198\\r\\nnathan84@lowery.net,MediumSeaGreen,32.0609144,12.62543264,35.53914243,5.41235784,627.6033187\\r\\nkellydeborah@chan.biz,DarkTurquoise,33.4310971,13.35063168,37.96597162,2.768851943,510.6617922\\r\\nlewisjessica@craig-evans.com,Tan,33.23765998,13.56615961,36.4179848,3.746572973,573.8474377\\r\\nkatrina56@gmail.com,PaleVioletRed,34.70252897,11.69573629,37.19026771,3.576525915,529.0490041\\r\\ndale88@hotmail.com,Cornsilk,32.64677668,11.49940906,38.33257633,4.958264473,551.6201455\\r\\ncwilson@hotmail.com,Teal,33.32250105,12.39142299,36.84008573,2.336484668,456.4695101\\r\\nhannahwilson@davidson.com,DarkMagenta,33.71598092,12.41880832,35.77101619,2.735159567,497.7786422\\r\\n'}"
            ]
          },
          "metadata": {},
          "execution_count": 19
        }
      ]
    },
    {
      "cell_type": "code",
      "source": [
        "data = spark.read.csv('Ecom (1).csv',inferSchema=True, header=True)"
      ],
      "metadata": {
        "id": "NlFnFyX5beaS"
      },
      "execution_count": 83,
      "outputs": []
    },
    {
      "cell_type": "code",
      "source": [
        "data.show(10)"
      ],
      "metadata": {
        "colab": {
          "base_uri": "https://localhost:8080/"
        },
        "id": "JRXxsltlbUwf",
        "outputId": "a4bd8959-9d1c-444a-f74d-da27ead85585"
      },
      "execution_count": 84,
      "outputs": [
        {
          "output_type": "stream",
          "name": "stdout",
          "text": [
            "+--------------------+----------------+----------------+-----------+---------------+--------------------+-------------------+\n",
            "|               Email|          Avatar|AvgSessionLength|Time on App|Time on Website|Length of Membership|Yearly Amount Spent|\n",
            "+--------------------+----------------+----------------+-----------+---------------+--------------------+-------------------+\n",
            "|mstephenson@ferna...|          Violet|     34.49726773|12.65565115|    39.57766802|         4.082620633|         587.951054|\n",
            "|   hduke@hotmail.com|       DarkGreen|     31.92627203|11.10946073|    37.26895887|         2.664034182|        392.2049334|\n",
            "|    pallen@yahoo.com|          Bisque|     33.00091476|11.33027806|    37.11059744|         4.104543202|        487.5475049|\n",
            "|riverarebecca@gma...|     SaddleBrown|     34.30555663|13.71751367|    36.72128268|         3.120178783|         581.852344|\n",
            "|mstephens@davidso...|MediumAquaMarine|     33.33067252|12.79518855|     37.5366533|         4.446308318|         599.406092|\n",
            "|alvareznancy@luca...|     FloralWhite|     33.87103788|12.02692534|    34.47687763|         5.493507201|        637.1024479|\n",
            "|katherine20@yahoo...|   DarkSlateBlue|      32.0215955|11.36634831|    36.68377615|         4.685017247|        521.5721748|\n",
            "|  awatkins@yahoo.com|            Aqua|     32.73914294|12.35195897|    37.37335886|         4.434273435|        549.9041461|\n",
            "|vchurch@walter-ma...|          Salmon|      33.9877729|13.38623528|    37.53449734|         3.273433578|         570.200409|\n",
            "|    bonnie69@lin.biz|           Brown|     31.93654862|11.81412829|    37.14516822|         3.202806072|        427.1993849|\n",
            "+--------------------+----------------+----------------+-----------+---------------+--------------------+-------------------+\n",
            "only showing top 10 rows\n",
            "\n"
          ]
        }
      ]
    },
    {
      "cell_type": "code",
      "source": [
        "from pyspark.ml.linalg import Vectors\n",
        "from pyspark.ml.feature import VectorAssembler"
      ],
      "metadata": {
        "id": "WBi_zTSHeuRU"
      },
      "execution_count": 22,
      "outputs": []
    },
    {
      "cell_type": "code",
      "source": [
        "for i in data.columns:\n",
        "    print(i+':',data[data[i].isNull()].count())"
      ],
      "metadata": {
        "colab": {
          "base_uri": "https://localhost:8080/"
        },
        "id": "d-Hr8ctlevX8",
        "outputId": "c95e3f2d-0ef6-4e1e-d861-267f26cfe780"
      },
      "execution_count": 85,
      "outputs": [
        {
          "output_type": "stream",
          "name": "stdout",
          "text": [
            "Email: 0\n",
            "Avatar: 0\n",
            "AvgSessionLength: 0\n",
            "Time on App: 0\n",
            "Time on Website: 0\n",
            "Length of Membership: 0\n",
            "Yearly Amount Spent: 0\n"
          ]
        }
      ]
    },
    {
      "cell_type": "code",
      "source": [
        "assembler = VectorAssembler(inputCols=[\"AvgSessionLength\",'Time on App','Time on Website','Length of Membership'],outputCol='features')"
      ],
      "metadata": {
        "id": "zybmeQrcey68"
      },
      "execution_count": 86,
      "outputs": []
    },
    {
      "cell_type": "code",
      "source": [
        "data1 = assembler.transform(data)"
      ],
      "metadata": {
        "id": "QupDD4-9fFIA"
      },
      "execution_count": 87,
      "outputs": []
    },
    {
      "cell_type": "code",
      "source": [
        "regdata = data1.select(\"features\",\"Yearly Amount Spent\")"
      ],
      "metadata": {
        "id": "5qyWk4u9fH0L"
      },
      "execution_count": 56,
      "outputs": []
    },
    {
      "cell_type": "code",
      "source": [
        "from sklearn.model_selection import train_test_split"
      ],
      "metadata": {
        "id": "YMFuM1KOfLc2"
      },
      "execution_count": 27,
      "outputs": []
    },
    {
      "cell_type": "code",
      "source": [
        "train_data, test_data = regdata.randomSplit([0.7, 0.3])"
      ],
      "metadata": {
        "id": "EXVzMM8bfdEc"
      },
      "execution_count": 57,
      "outputs": []
    },
    {
      "cell_type": "code",
      "source": [
        "from pyspark.ml.regression import LinearRegression"
      ],
      "metadata": {
        "id": "d7pleg-PgCyT"
      },
      "execution_count": 34,
      "outputs": []
    },
    {
      "cell_type": "code",
      "source": [
        "models = LinearRegression(featuresCol='features',labelCol='Yearly Amount Spent')\n",
        "Ecommodel = models.fit(train_data)\n",
        "\n",
        "summary = Ecommodel.summary\n",
        "\n",
        "print('\\033[1m' + 'RMSE:',summary.rootMeanSquaredError)\n",
        "print('R2 score:', summary.r2)\n",
        "print('MAE score:', summary.meanAbsoluteError)\n",
        "print('MSE score:', summary.meanSquaredError)"
      ],
      "metadata": {
        "colab": {
          "base_uri": "https://localhost:8080/"
        },
        "id": "lOtmVQ-LgRbf",
        "outputId": "a0dba7b1-2f51-4a19-d697-f102cb70b537"
      },
      "execution_count": 58,
      "outputs": [
        {
          "output_type": "stream",
          "name": "stdout",
          "text": [
            "\u001b[1mRMSE: 9.927882577793559\n",
            "R2 score: 0.9841341038995979\n",
            "MAE score: 7.831573045460302\n",
            "MSE score: 98.56285247845688\n"
          ]
        }
      ]
    },
    {
      "cell_type": "code",
      "source": [
        "predictions = Ecommodel.transform(test_data)\n",
        "\n",
        "# Display the predictions\n",
        "predictions.show(20)"
      ],
      "metadata": {
        "colab": {
          "base_uri": "https://localhost:8080/"
        },
        "id": "-E2y4ao8g1fQ",
        "outputId": "ec95fb74-7fca-40cd-8500-26ad4e3a1208"
      },
      "execution_count": 48,
      "outputs": [
        {
          "output_type": "stream",
          "name": "stdout",
          "text": [
            "+--------------------+-------------------+------------------+\n",
            "|            features|Yearly Amount Spent|        prediction|\n",
            "+--------------------+-------------------+------------------+\n",
            "|[31.04722214,11.1...|        392.4973992| 388.1387198138782|\n",
            "|[31.26810421,12.1...|        423.4705332| 426.7198720383508|\n",
            "|[31.57413802,12.9...|        544.4092722| 558.9719350283212|\n",
            "|[31.6005122,12.22...|        479.1728515|460.86649529726674|\n",
            "|[31.60983957,12.7...|        444.5455497|426.77850731433887|\n",
            "|[31.6739155,12.32...|        475.7250679|  502.222570578293|\n",
            "|[31.7207699,11.75...|        538.7749335| 546.6248712672343|\n",
            "|[31.72420252,13.1...|        503.3878873|509.26641272604525|\n",
            "|[31.82797906,12.4...|        440.0027475| 449.0674139949663|\n",
            "|[31.87455169,10.2...|        392.2852442|397.83360451146905|\n",
            "|[31.90485713,12.2...|        473.9498574| 491.0650915834656|\n",
            "|[31.90962683,11.3...|        563.4460357| 552.2513844251907|\n",
            "|[31.92627203,11.1...|        392.2049334| 379.8614349862346|\n",
            "|[31.94539575,12.9...|        657.0199239| 663.5321629604473|\n",
            "|[31.95490386,10.9...|        439.9978799|431.64231510127956|\n",
            "|[31.95630056,12.8...|        547.1259317| 565.2079474334128|\n",
            "|[32.00850452,12.0...|         443.197221|451.48632674924943|\n",
            "|[32.01230077,12.1...|        492.9450531|   489.36328219288|\n",
            "|[32.01807401,10.0...|        357.7831107|340.00810633357537|\n",
            "|[32.04983939,12.2...|        478.7193569| 456.0138102748517|\n",
            "+--------------------+-------------------+------------------+\n",
            "only showing top 20 rows\n",
            "\n"
          ]
        }
      ]
    },
    {
      "cell_type": "code",
      "source": [
        "from pyspark.ml.evaluation import RegressionEvaluator\n",
        "\n",
        "evaluator = RegressionEvaluator(predictionCol='prediction',\n",
        "                                labelCol='Yearly Amount Spent',\n",
        "                                metricName='r2')\n",
        "\n",
        "print('\\033[1m' + 'R2 on the test data:',evaluator.evaluate(predictions)) "
      ],
      "metadata": {
        "colab": {
          "base_uri": "https://localhost:8080/"
        },
        "id": "rRd0RLykg_Fr",
        "outputId": "cb7f0fa4-7514-4c2d-bf71-0c77d2efe076"
      },
      "execution_count": 39,
      "outputs": [
        {
          "output_type": "stream",
          "name": "stdout",
          "text": [
            "\u001b[1mR2 on the test data: 0.9849447505414364\n"
          ]
        }
      ]
    },
    {
      "cell_type": "code",
      "source": [
        "Ecommodeltest = models.fit(test_data)\n",
        "\n",
        "# Get summary of the model\n",
        "summary = Ecommodeltest.summary\n",
        "\n",
        "# Print RMSE , R2 , MAE , MSE\n",
        "print('\\033[1m' + 'RMSE:',summary.rootMeanSquaredError)\n",
        "print('R2 score:', summary.r2)\n",
        "print('MAE score:', summary.meanAbsoluteError)\n",
        "print('MSE score:', summary.meanSquaredError)"
      ],
      "metadata": {
        "colab": {
          "base_uri": "https://localhost:8080/"
        },
        "id": "8_Ohp8e1hNaf",
        "outputId": "e8d96bf2-9368-4338-86d4-75c076001182"
      },
      "execution_count": 50,
      "outputs": [
        {
          "output_type": "stream",
          "name": "stdout",
          "text": [
            "\u001b[1mRMSE: 10.407071627351064\n",
            "R2 score: 0.9838750390586901\n",
            "MAE score: 8.218182951919905\n",
            "MSE score: 108.30713985681551\n"
          ]
        }
      ]
    },
    {
      "cell_type": "code",
      "source": [
        "\n",
        "import seaborn as sns\n",
        "import matplotlib.pyplot as plt\n",
        "\n",
        "from pyspark.sql.types import *\n",
        "import pyspark.sql.functions as F\n",
        "from pyspark.sql.functions import udf, col"
      ],
      "metadata": {
        "id": "Vp29G9hEkAzK"
      },
      "execution_count": 60,
      "outputs": []
    },
    {
      "cell_type": "code",
      "source": [
        "sns.distplot(data.select('Yearly Amount Spent').toPandas(), color=\"green\")\n",
        "data.select(F.skewness('Yearly Amount Spent'), F.kurtosis('Yearly Amount Spent')).show()"
      ],
      "metadata": {
        "colab": {
          "base_uri": "https://localhost:8080/",
          "height": 424
        },
        "id": "J3DcyX20hYmc",
        "outputId": "d5692878-1011-46ed-f984-0be2d7cc3f9c"
      },
      "execution_count": 61,
      "outputs": [
        {
          "output_type": "stream",
          "name": "stderr",
          "text": [
            "/usr/local/lib/python3.8/dist-packages/seaborn/distributions.py:2619: FutureWarning: `distplot` is a deprecated function and will be removed in a future version. Please adapt your code to use either `displot` (a figure-level function with similar flexibility) or `histplot` (an axes-level function for histograms).\n",
            "  warnings.warn(msg, FutureWarning)\n"
          ]
        },
        {
          "output_type": "stream",
          "name": "stdout",
          "text": [
            "+-----------------------------+-----------------------------+\n",
            "|skewness(Yearly Amount Spent)|kurtosis(Yearly Amount Spent)|\n",
            "+-----------------------------+-----------------------------+\n",
            "|          0.03468572636729024|           0.4473727018192597|\n",
            "+-----------------------------+-----------------------------+\n",
            "\n"
          ]
        },
        {
          "output_type": "display_data",
          "data": {
            "text/plain": [
              "<Figure size 432x288 with 1 Axes>"
            ],
            "image/png": "[encoded data removed]"
          },
          "metadata": {
            "needs_background": "light"
          }
        }
      ]
    },
    {
      "cell_type": "code",
      "source": [
        "sns.histplot(data.select('Length of Membership').toPandas(), bins = 10)"
      ],
      "metadata": {
        "colab": {
          "base_uri": "https://localhost:8080/",
          "height": 282
        },
        "id": "qyVdM2cQkELG",
        "outputId": "533c4996-724d-4b17-ed37-7c02bf1b262f"
      },
      "execution_count": 63,
      "outputs": [
        {
          "output_type": "execute_result",
          "data": {
            "text/plain": [
              "<matplotlib.axes._subplots.AxesSubplot at 0x7ff48de6a6a0>"
            ]
          },
          "metadata": {},
          "execution_count": 63
        },
        {
          "output_type": "display_data",
          "data": {
            "text/plain": [
              "<Figure size 432x288 with 1 Axes>"
            ],
            "image/png": "[encoded data removed]"
          },
          "metadata": {
            "needs_background": "light"
          }
        }
      ]
    },
    {
      "cell_type": "code",
      "source": [
        "sns.histplot(data.select('AvgSessionLength').toPandas(), bins = 10)"
      ],
      "metadata": {
        "colab": {
          "base_uri": "https://localhost:8080/",
          "height": 282
        },
        "id": "wsWDj1yDk2XH",
        "outputId": "a34ef021-c5d7-4a41-fdab-52e66d586afe"
      },
      "execution_count": 64,
      "outputs": [
        {
          "output_type": "execute_result",
          "data": {
            "text/plain": [
              "<matplotlib.axes._subplots.AxesSubplot at 0x7ff48aee7ca0>"
            ]
          },
          "metadata": {},
          "execution_count": 64
        },
        {
          "output_type": "display_data",
          "data": {
            "text/plain": [
              "<Figure size 432x288 with 1 Axes>"
            ],
            "image/png": "[encoded data removed]"
          },
          "metadata": {
            "needs_background": "light"
          }
        }
      ]
    },
    {
      "cell_type": "code",
      "source": [
        "  data.plot.scatter(x='Yearly Amount Spent', y='Length of Membership') "
      ],
      "metadata": {
        "colab": {
          "base_uri": "https://localhost:8080/",
          "height": 296
        },
        "id": "v_zc5j7tnmZD",
        "outputId": "f1fd4229-56f2-493b-8ef3-ec8eb9b84da9"
      },
      "execution_count": 78,
      "outputs": [
        {
          "output_type": "execute_result",
          "data": {
            "text/plain": [
              "<matplotlib.axes._subplots.AxesSubplot at 0x7ff4881af4f0>"
            ]
          },
          "metadata": {},
          "execution_count": 78
        },
        {
          "output_type": "display_data",
          "data": {
            "text/plain": [
              "<Figure size 432x288 with 1 Axes>"
            ],
            "image/png": "[encoded data removed]"
          },
          "metadata": {
            "needs_background": "light"
          }
        }
      ]
    }
  ]
}